{
 "cells": [
  {
   "cell_type": "code",
   "execution_count": 1,
   "metadata": {
    "collapsed": true
   },
   "outputs": [],
   "source": [
    "import sys\n",
    "import re\n",
    "import random\n",
    "from operator import itemgetter\n",
    "from urllib2 import unquote\n",
    "\n",
    "def for_ftch0(ftch,Answ):\n",
    "    ftch = ftch.split(\"&\")\n",
    "    for i in ftch:\n",
    "        st = \"param:\" + i\n",
    "        Answ.update({st : Answ.get(st,0) + 1})\n",
    "        stt = i.split('=')\n",
    "        st = \"param_name:\" + stt[0]\n",
    "        Answ.update({st : Answ.get(st,0) + 1})\n",
    "\n",
    "def prove(line, Answ):\n",
    "    line = unquote(line)\n",
    "    line = line.replace('\\n', '')\n",
    "    ftch = line.split(\"/\")\n",
    "    ftch = [x for x in ftch if x != \"\" ]\n",
    "    lenS = len(ftch) - 2\n",
    "    st = \"segments:\" + str(lenS)\n",
    "    Answ.update({st : Answ.get(st,0) + 1})\n",
    "    i = 2\n",
    "    while i < len(ftch):\n",
    "        param = ftch[i].split(\"?\")\n",
    "        if len(param) != 1:\n",
    "            for_ftch0(param[1],Answ)\n",
    " \n",
    "        if param[0] == '':\n",
    "            i = i + 1\n",
    "            continue\n",
    "        ftch[i] = param[0]\n",
    "        #it's number\n",
    "        st = \"segment_len_\" + str(i - 2) + ':' + str(len(ftch[i]))\n",
    "        Answ.update({st : Answ.get(st,0) + 1})\n",
    "        st = \"segment_name_\" + str(i - 2) + ':' + ftch[i]\n",
    "        Answ.update({st : Answ.get(st,0) + 1})\n",
    "        #need .\n",
    "        param = ftch[i].split('.')\n",
    "        f = 0\n",
    "        if len(param) > 2:\n",
    "            i = i + 1\n",
    "            continue\n",
    "        else:\n",
    "            if len(param) == 2:\n",
    "                f = 1\n",
    "                st = \"segment_ext_\" + str(i - 2) + ':' + param[1]\n",
    "                Answ.update({st : Answ.get(st,0) + 1})\n",
    "                ftch[i] = param[0]\n",
    "        \n",
    "        if ftch[i].isdigit():\n",
    "            st = \"segment_[0-9]_\" + str(i - 2) + ':1'\n",
    "            Answ.update({st : Answ.get(st,0) + 1})\n",
    "        else:              \n",
    "            result = re.match('\\D+\\d+\\D+',ftch[i])\n",
    "            if result is not None:\n",
    "                if f == 1:\n",
    "                    st = \"segment_ext_substr[0-9]_\" + str(i - 2) + ':1'\n",
    "                    Answ.update({st : Answ.get(st,0) + 1})\n",
    "                st = \"segment_substr[0-9]_\" + str(i - 2) + ':1'\n",
    "                Answ.update({st : Answ.get(st,0) + 1})\n",
    "        #it's word\n",
    "        i = i + 1\n",
    "\n",
    "\n",
    "def extract_features(INPUT_FILE_1, INPUT_FILE_2, OUTPUT_FILE):\n",
    "    f1 = open(INPUT_FILE_1, \"r\")\n",
    "    f2 = open(INPUT_FILE_2, \"r\")\n",
    "    f3 = open(OUTPUT_FILE, \"w\")\n",
    "    random.seed()\n",
    "    Answ = {}\n",
    "    N = 1000  \n",
    "    f1 = open(INPUT_FILE_1, 'r')\n",
    "    qlink_urls = random.sample(f1.readlines(), N)\n",
    "    f1.close()\n",
    "    f2 = open(INPUT_FILE_2, 'r')\n",
    "    qeneral_urls = random.sample(f2.readlines(), N)\n",
    "    f2.close()\n",
    "    for i in qlink_urls:\n",
    "        prove(i,Answ)\n",
    "    for i in qeneral_urls:\n",
    "        prove(i,Answ)\n",
    "            \n",
    "    \n",
    "    mAnsw = []\n",
    "    for i in Answ:\n",
    "         mAnsw.append([Answ.get(i),i])\n",
    "    mAnsw = reversed(sorted(mAnsw))\n",
    "    for i in mAnsw:\n",
    "        if (i[0] >= 100):\n",
    "            f3.write(str(i[1]) + '\\t' + str(i[0]) + '\\n')\n",
    "    f3.close()\n",
    "    f2.close()\n",
    "    f1.close()"
   ]
  },
  {
   "cell_type": "code",
   "execution_count": 22,
   "metadata": {
    "collapsed": false
   },
   "outputs": [
    {
     "name": "stdout",
     "output_type": "stream",
     "text": [
      "['news', '2013', '04', '04.jpg', 'rukavishnikov']\n"
     ]
    }
   ],
   "source": [
    "import urlparse\n",
    "link = urlparse.urlparse('http://lenta.ru/news/2013/04/04.jpg/rukavishnikov?d=12&type=image/')\n",
    "ftch = filter(None, map(str.strip, link.path.split('/')))\n",
    "print ftch"
   ]
  }
 ],
 "metadata": {
  "kernelspec": {
   "display_name": "Python 2",
   "language": "python",
   "name": "python2"
  },
  "language_info": {
   "codemirror_mode": {
    "name": "ipython",
    "version": 2
   },
   "file_extension": ".py",
   "mimetype": "text/x-python",
   "name": "python",
   "nbconvert_exporter": "python",
   "pygments_lexer": "ipython2",
   "version": "2.7.10"
  }
 },
 "nbformat": 4,
 "nbformat_minor": 0
}
